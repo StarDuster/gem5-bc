{
 "cells": [
  {
   "cell_type": "code",
   "execution_count": 1,
   "metadata": {},
   "outputs": [
    {
     "ename": "UFuncTypeError",
     "evalue": "Cannot cast ufunc 'divide' output from dtype('float64') to dtype('int64') with casting rule 'same_kind'",
     "output_type": "error",
     "traceback": [
      "\u001b[0;31m---------------------------------------------------------------------------\u001b[0m",
      "\u001b[0;31mUFuncTypeError\u001b[0m                            Traceback (most recent call last)",
      "Cell \u001b[0;32mIn[1], line 6\u001b[0m\n\u001b[1;32m      3\u001b[0m eventlist \u001b[39m=\u001b[39m np\u001b[39m.\u001b[39marray([\u001b[39m1\u001b[39m, \u001b[39m100\u001b[39m, \u001b[39m10000\u001b[39m])\n\u001b[1;32m      5\u001b[0m matrix \u001b[39m=\u001b[39m np\u001b[39m.\u001b[39marray([[\u001b[39m0\u001b[39m, \u001b[39m2\u001b[39m, \u001b[39m30\u001b[39m], [\u001b[39m2\u001b[39m, \u001b[39m0\u001b[39m, \u001b[39m6\u001b[39m], [\u001b[39m7\u001b[39m, \u001b[39m8\u001b[39m, \u001b[39m0\u001b[39m]])\n\u001b[0;32m----> 6\u001b[0m matrix \u001b[39m/\u001b[39m\u001b[39m=\u001b[39m eventlist\n\u001b[1;32m      8\u001b[0m \u001b[39mprint\u001b[39m(matrix)\n",
      "\u001b[0;31mUFuncTypeError\u001b[0m: Cannot cast ufunc 'divide' output from dtype('float64') to dtype('int64') with casting rule 'same_kind'"
     ]
    }
   ],
   "source": [
    "import numpy as np\n",
    "\n",
    "eventlist = np.array([1, 100, 10000])\n",
    "\n",
    "matrix = np.array([[0, 2, 30], [2, 0, 6], [7, 8, 0]])\n",
    "matrix /= eventlist\n",
    "\n",
    "print(matrix)"
   ]
  },
  {
   "cell_type": "code",
   "execution_count": 7,
   "metadata": {},
   "outputs": [
    {
     "name": "stdout",
     "output_type": "stream",
     "text": [
      "20\n",
      "['branchPred.RASIncorrect', 'branchPred.RASUsed', 'branchPred.condIncorrect', 'branchPred.indirectHits', 'branchPred.indirectLookups', 'branchPred.indirectMisses', 'decode.branchMispred', 'decode.branchResolved', 'decode.idleCycles', 'iew.iqFullEvents', 'iew.lsqFullEvents', 'iew.predictedNotTakenIncorrect', 'iew.predictedTakenIncorrect', 'l1dcache.overallMisses', 'l1icache.overallMisses', 'l2cache.overallHits', 'l2cache.overallMisses', 'l3cache.overallMisses', 'rename.IQFullEvents', 'rename.ROBFullEvents', 'rename.SQFullEvents', 'rename.fullRegistersEvents', 'rename.idleCycles']\n"
     ]
    }
   ],
   "source": [
    "eventlist = \"branchPred.RASIncorrect branchPred.RASUsed branchPred.condIncorrect branchPred.indirectHits branchPred.indirectLookups branchPred.indirectMisses decode.branchMispred decode.branchResolved decode.idleCycles iew.iqFullEvents iew.lsqFullEvents iew.predictedNotTakenIncorrect iew.predictedTakenIncorrect l1dcache.overallMisses l1icache.overallMisses l2cache.overallHits l2cache.overallMisses l3cache.overallMisses rename.IQFullEvents rename.ROBFullEvents rename.SQFullEvents rename.fullRegistersEvents rename.idleCycles\".split()\n",
    "print(eventlist.index(\"rename.SQFullEvents\"))\n",
    "print(eventlist)\n",
    "print(len(eventlist))"
   ]
  }
 ],
 "metadata": {
  "kernelspec": {
   "display_name": "Python 3",
   "language": "python",
   "name": "python3"
  },
  "language_info": {
   "codemirror_mode": {
    "name": "ipython",
    "version": 3
   },
   "file_extension": ".py",
   "mimetype": "text/x-python",
   "name": "python",
   "nbconvert_exporter": "python",
   "pygments_lexer": "ipython3",
   "version": "3.10.6"
  },
  "orig_nbformat": 4
 },
 "nbformat": 4,
 "nbformat_minor": 2
}
