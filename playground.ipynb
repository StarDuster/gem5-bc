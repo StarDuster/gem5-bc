{
 "cells": [
  {
   "cell_type": "code",
   "execution_count": null,
   "metadata": {},
   "outputs": [],
   "source": [
    "s2 = \"branchPred.BTBHits branchPred.BTBLookups branchPred.BTBUpdates branchPred.RASIncorrect branchPred.RASUsed branchPred.condIncorrect branchPred.indirectHits branchPred.indirectLookups branchPred.indirectMisses decode.branchMispred decode.branchResolved decode.idleCycles decode.squashCycles decode.unblockCycles fetch.icacheStallCycles fetch.miscStallCycles iewStats.iqFullEvents iewStats.lsqFullEvents iewStats.predictedNotTakenIncorrect iewStats.predictedTakenIncorrect iewStats.squashCycles l1dcache.overallMisses l1icache.overallMisses l2cache.overallHits l2cache.overallMisses l3cache.overallMisses rename.fullRegistersEvents rename.serializeStallCycles rename.squashCycles rename.unblockCycles \"\n",
    "s1 = \"branchPred.BTBHits branchPred.BTBLookups branchPred.BTBUpdates branchPred.RASIncorrect branchPred.RASUsed branchPred.condIncorrect branchPred.indirectHits branchPred.indirectLookups branchPred.indirectMisses decode.branchMispred decode.branchResolved decode.idleCycles decode.squashCycles decode.unblockCycles fetch.icacheStallCycles fetch.miscStallCycles iewStats.iqFullEvents iewStats.lsqFullEvents iewStats.predictedNotTakenIncorrect iewStats.predictedTakenIncorrect iewStats.squashCycles l1dcache.overallMisses l1icache.overallMisses l2cache.overallHits l2cache.overallMisses l3cache.overallHits l3cache.overallMisses rename.fullRegistersEvents rename.serializeStallCycles rename.squashCycles rename.unblockCycles \"\n",
    "s0 = \"branchPred.BTBHits branchPred.BTBLookups branchPred.BTBUpdates branchPred.RASUsed branchPred.condIncorrect branchPred.indirectHits branchPred.indirectLookups branchPred.indirectMisses decode.branchMispred decode.branchResolved decode.idleCycles decode.squashCycles decode.unblockCycles fetch.icacheStallCycles fetch.miscStallCycles iewStats.iqFullEvents iewStats.lsqFullEvents iewStats.predictedNotTakenIncorrect iewStats.predictedTakenIncorrect iewStats.squashCycles l1dcache.overallMisses l1icache.overallMisses l2cache.overallHits l2cache.overallMisses l3cache.overallMisses rename.fullRegistersEvents rename.serializeStallCycles rename.squashCycles rename.unblockCycles \"\n",
    "set1 = set(s1.split())\n",
    "set2 = set(s2.split())\n",
    "set0 = set(s0.split())\n",
    "print(set1 - set2)\n",
    "print(set1 - set0)"
   ]
  }
 ],
 "metadata": {
  "kernelspec": {
   "display_name": "Python 3",
   "language": "python",
   "name": "python3"
  },
  "language_info": {
   "codemirror_mode": {
    "name": "ipython",
    "version": 3
   },
   "file_extension": ".py",
   "mimetype": "text/x-python",
   "name": "python",
   "nbconvert_exporter": "python",
   "pygments_lexer": "ipython3",
   "version": "3.10.6"
  },
  "orig_nbformat": 4
 },
 "nbformat": 4,
 "nbformat_minor": 2
}
