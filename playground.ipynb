{
 "cells": [
  {
   "cell_type": "code",
   "execution_count": 9,
   "metadata": {},
   "outputs": [
    {
     "name": "stdout",
     "output_type": "stream",
     "text": [
      "20\n",
      "23\n"
     ]
    }
   ],
   "source": [
    "eventlist = \"branchPred.RASIncorrect branchPred.RASUsed branchPred.condIncorrect branchPred.indirectHits branchPred.indirectLookups branchPred.indirectMisses decode.branchMispred decode.branchResolved decode.idleCycles iew.iqFullEvents iew.lsqFullEvents iew.predictedNotTakenIncorrect iew.predictedTakenIncorrect l1dcache.overallMisses l1icache.overallMisses l2cache.overallHits l2cache.overallMisses l3cache.overallMisses rename.IQFullEvents rename.ROBFullEvents rename.SQFullEvents rename.fullRegistersEvents rename.idleCycles\".split()\n",
    "print(eventlist.index(\"rename.SQFullEvents\"))\n",
    "print(len(eventlist))"
   ]
  }
 ],
 "metadata": {
  "kernelspec": {
   "display_name": "Python 3",
   "language": "python",
   "name": "python3"
  },
  "language_info": {
   "codemirror_mode": {
    "name": "ipython",
    "version": 3
   },
   "file_extension": ".py",
   "mimetype": "text/x-python",
   "name": "python",
   "nbconvert_exporter": "python",
   "pygments_lexer": "ipython3",
   "version": "3.10.6"
  },
  "orig_nbformat": 4
 },
 "nbformat": 4,
 "nbformat_minor": 2
}
